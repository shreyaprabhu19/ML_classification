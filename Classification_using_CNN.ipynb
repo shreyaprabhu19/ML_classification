{
  "nbformat": 4,
  "nbformat_minor": 0,
  "metadata": {
    "colab": {
      "provenance": [],
      "authorship_tag": "ABX9TyN9kXkVhk4v8+KG20/Tqhru",
      "include_colab_link": true
    },
    "kernelspec": {
      "name": "python3",
      "display_name": "Python 3"
    },
    "language_info": {
      "name": "python"
    }
  },
  "cells": [
    {
      "cell_type": "markdown",
      "metadata": {
        "id": "view-in-github",
        "colab_type": "text"
      },
      "source": [
        "<a href=\"https://colab.research.google.com/github/shreyaprabhu19/MinorProject_DS23/blob/main/Classification_using_CNN.ipynb\" target=\"_parent\"><img src=\"https://colab.research.google.com/assets/colab-badge.svg\" alt=\"Open In Colab\"/></a>"
      ]
    },
    {
      "cell_type": "code",
      "execution_count": null,
      "metadata": {
        "id": "0b7524ad",
        "outputId": "ebd4875c-a5d1-4344-ffe4-fcb13dcd8a24"
      },
      "outputs": [
        {
          "name": "stderr",
          "output_type": "stream",
          "text": [
            "2023-04-22 17:16:07.939023: I tensorflow/core/platform/cpu_feature_guard.cc:193] This TensorFlow binary is optimized with oneAPI Deep Neural Network Library (oneDNN) to use the following CPU instructions in performance-critical operations:  SSE4.1 SSE4.2 AVX AVX2 FMA\n",
            "To enable them in other operations, rebuild TensorFlow with the appropriate compiler flags.\n"
          ]
        }
      ],
      "source": [
        "import numpy as np\n",
        "import tensorflow as tf\n",
        "from tensorflow import keras\n",
        "from tensorflow.keras import layers"
      ]
    },
    {
      "cell_type": "code",
      "execution_count": null,
      "metadata": {
        "id": "ab02d97b"
      },
      "outputs": [],
      "source": [
        "import numpy as np\n",
        "import matplotlib as mpl\n",
        "import matplotlib.pyplot as plt\n",
        "import math\n",
        "from astropy.io import ascii\n",
        "import matplotlib.patches as mpatches\n",
        "from matplotlib import rc,rcParams\n",
        "from astropy.table import Table\n",
        "import matplotlib\n",
        "%matplotlib inline\n",
        "%matplotlib notebook\n",
        "from astropy.io import fits\n",
        "from numpy import arange\n",
        "import estimate_source_angles_detectors\n",
        "import pandas as pd\n",
        "import os\n",
        "from sklearn.model_selection import train_test_split\n",
        "from sklearn.metrics import accuracy_score"
      ]
    },
    {
      "cell_type": "code",
      "execution_count": null,
      "metadata": {
        "id": "752e25d5"
      },
      "outputs": [],
      "source": [
        "def find_brightest_det(file_list, category, dataset):\n",
        "    det = []\n",
        "    for file in file_list:\n",
        "        event_filename = '/home/shreya/FermiData/'+dataset+'/' + category +'/trigdat/'+ file\n",
        "        file = fits.open(event_filename, memmap=True)\n",
        "        ra_obj = file[0].header['RA_OBJ']\n",
        "        dec_obj = file[0].header['DEC_OBJ']\n",
        "        file.close()\n",
        "        brightest_nai, bright_nais, brightest_bgo = estimate_source_angles_detectors.angle_to_grb(ra_obj,dec_obj,event_filename)\n",
        "        det.append(brightest_nai)\n",
        "    return det"
      ]
    },
    {
      "cell_type": "code",
      "execution_count": null,
      "metadata": {
        "id": "4982172b"
      },
      "outputs": [],
      "source": [
        "def time_data(file,det):\n",
        "    data = file[2].data\n",
        "    trig_time = file[0].header['TRIGTIME']\n",
        "    pha = []\n",
        "    for i in data:\n",
        "        pha.append(i[0])\n",
        "    arr = np.array(pha)\n",
        "    time = arr-trig_time\n",
        "    return time"
      ]
    },
    {
      "cell_type": "code",
      "execution_count": null,
      "metadata": {
        "id": "b1c6bff6"
      },
      "outputs": [],
      "source": [
        "def read_data(det, category,lists, dataset):\n",
        "    data = []\n",
        "    trigger = []\n",
        "    for i in range(len(det)):\n",
        "        temp = lists[i].split(\"_\")[3]\n",
        "        trigger.append(temp)\n",
        "        event_filename = '/home/shreya/FermiData/'+dataset+'/' + category +'/tte/glg_tte_'+ det[i] + '_'+ temp + '_v00.fit'\n",
        "        tte = fits.open(event_filename, memmap=True)\n",
        "        data.append(time_data(tte, det[i]))\n",
        "    return data"
      ]
    },
    {
      "cell_type": "code",
      "execution_count": null,
      "metadata": {
        "id": "22a3480a"
      },
      "outputs": [],
      "source": [
        " def return_hist(data, bin_size, x_range, x_start): #x_range = 100\n",
        "    histograms = []\n",
        "    n_bins = []\n",
        "    for i in range(len(data)):\n",
        "        n_bin = math.ceil(data[i][len(data[i])-1]/bin_size)\n",
        "        n_bins.append(n_bin)\n",
        "        hist, bins = np.histogram(data[i], bins=n_bin)\n",
        "        l = len(data[i])\n",
        "        start = math.floor((-x_start-data[i][0])/bin_size)\n",
        "        end = start + int(x_range/bin_size)\n",
        "        histograms.append(hist[start:end])\n",
        "    return histograms"
      ]
    },
    {
      "cell_type": "code",
      "execution_count": null,
      "metadata": {
        "id": "ecdf6352"
      },
      "outputs": [],
      "source": [
        "def bin_hist(data, bins):\n",
        "#     x_range = [100, 20, 10, 2, 0.2] #x2\n",
        "#     x_start = [10, 10, 5, 1, 0.1]\n",
        "    x_range = [110, 110, 110, 110, 110] #x2\n",
        "    x_start = [10, 10, 10, 10, 10]\n",
        "    hist_temp = []\n",
        "    for i in range(len(bins)):\n",
        "        hist_temp.append(return_hist(data, bins[i], x_range[i], x_start[i]))\n",
        "    return hist_temp"
      ]
    },
    {
      "cell_type": "code",
      "execution_count": null,
      "metadata": {
        "id": "4f704445"
      },
      "outputs": [],
      "source": [
        "#reading testing and training data files\n",
        "file_list1 = os.listdir('/home/shreya/FermiData/training_data2/GRB_1/trigdat')\n",
        "file_list2 = os.listdir('/home/shreya/FermiData/training_data2/TGF_1/trigdat')\n",
        "file_list = file_list1 + file_list2\n",
        "det1 = find_brightest_det(file_list1, \"GRB_1\", \"training_data2\")\n",
        "det2 = find_brightest_det(file_list2, \"TGF_1\", \"training_data2\")\n",
        "det = det1 + det2\n",
        "data1 = read_data(det1, \"GRB_1\", file_list1, \"training_data2\")\n",
        "data2 = read_data(det2, \"TGF_1\", file_list2, \"training_data2\")\n",
        "data = data1 + data2\n",
        "test_list1 = os.listdir('/home/shreya/FermiData/testing_data2/grbs/trigdat')\n",
        "test_list2 = os.listdir('/home/shreya/FermiData/testing_data2/tgfs/trigdat')\n",
        "test_list = test_list1 + test_list2\n",
        "test_det1 = find_brightest_det(test_list1, \"grbs\", \"testing_data2\")\n",
        "test_det2 = find_brightest_det(test_list2, \"tgfs\", \"testing_data2\")\n",
        "test_det = test_det1 + test_det2\n",
        "test_data1 = read_data(test_det1, \"grbs\", test_list1, \"testing_data2\")\n",
        "test_data2 = read_data(test_det2, \"tgfs\", test_list2, \"testing_data2\")\n",
        "test_data = test_data1 + test_data2"
      ]
    },
    {
      "cell_type": "code",
      "execution_count": null,
      "metadata": {
        "id": "1d016b18"
      },
      "outputs": [],
      "source": [
        "#Choosen bin sizes according to the X-ray transients considered\n",
        "bins = [1, 0.1, 0.05, 0.01, 0.001]\n",
        "histograms = []\n",
        "hist_temp2 = bin_hist(test_data, bins)\n",
        "bins = [1, 0.1, 0.05, 0.01, 0.001]\n",
        "histograms = []\n",
        "hist_temp = bin_hist(data, bins)"
      ]
    },
    {
      "cell_type": "code",
      "execution_count": null,
      "metadata": {
        "id": "e071395c"
      },
      "outputs": [],
      "source": [
        "hist_2d = []\n",
        "for j in range(len(data)):\n",
        "    final = np.zeros((5,110000))\n",
        "    for i in range(len(bins)):\n",
        "        for k in range(len(hist_temp[i][j])):\n",
        "            final[i][k] = hist_temp[i][j][k]\n",
        "    hist_2d.append(final)"
      ]
    },
    {
      "cell_type": "code",
      "execution_count": null,
      "metadata": {
        "id": "4c7917e9"
      },
      "outputs": [],
      "source": [
        "hist_2d_test = []\n",
        "for j in range(len(test_data)):\n",
        "    final = np.zeros((5, 110000))\n",
        "    for i in range(len(bins)):\n",
        "        for k in range(len(hist_temp2[i][j])):\n",
        "            final[i][k] = hist_temp2[i][j][k]\n",
        "    hist_2d_test.append(final)"
      ]
    },
    {
      "cell_type": "code",
      "execution_count": null,
      "metadata": {
        "id": "64b78848",
        "outputId": "1a7a35d1-7682-4cf5-f233-3fae117f1955"
      },
      "outputs": [
        {
          "data": {
            "text/plain": [
              "(63,)"
            ]
          },
          "execution_count": 19,
          "metadata": {},
          "output_type": "execute_result"
        }
      ],
      "source": [
        "a1 = np.empty(33)\n",
        "a1.fill(0)\n",
        "a2 = np.empty(30)\n",
        "a2.fill(1)\n",
        "label = np.append(a1, a2)\n",
        "y_train = np.array(label)\n",
        "np.shape(y_train)"
      ]
    },
    {
      "cell_type": "code",
      "execution_count": null,
      "metadata": {
        "id": "b8977d3b",
        "outputId": "558a8cc7-80f7-4e65-8d77-c0298eb7d680"
      },
      "outputs": [
        {
          "data": {
            "text/plain": [
              "(25,)"
            ]
          },
          "execution_count": 20,
          "metadata": {},
          "output_type": "execute_result"
        }
      ],
      "source": [
        "a1 = np.empty(13)\n",
        "a1.fill(0)\n",
        "a2 = np.empty(12)\n",
        "a2.fill(1)\n",
        "y_test = np.append(a1, a2)\n",
        "y_test = np.array(y_test)\n",
        "np.shape(y_test)"
      ]
    },
    {
      "cell_type": "markdown",
      "source": [
        "The classification algorithm using a single layered convolutional neural network is run for various values of parameters\n",
        "."
      ],
      "metadata": {
        "id": "axa7IVHm9MWZ"
      }
    },
    {
      "cell_type": "code",
      "execution_count": null,
      "metadata": {
        "id": "1c52d88e",
        "outputId": "93436ac6-2f35-4724-f0fd-9e0d2d891a4d"
      },
      "outputs": [
        {
          "name": "stdout",
          "output_type": "stream",
          "text": [
            "Epoch 1/20\n",
            "10/10 [==============================] - 3s 252ms/step - loss: 736.9598 - accuracy: 0.5000\n",
            "Epoch 2/20\n",
            "10/10 [==============================] - 3s 253ms/step - loss: 151.3690 - accuracy: 0.5500\n",
            "Epoch 3/20\n",
            "10/10 [==============================] - 3s 253ms/step - loss: 20.0561 - accuracy: 0.5750\n",
            "Epoch 4/20\n",
            "10/10 [==============================] - 3s 254ms/step - loss: 4.2977 - accuracy: 0.6750\n",
            "Epoch 5/20\n",
            "10/10 [==============================] - 3s 254ms/step - loss: 31.5687 - accuracy: 0.3000\n",
            "Epoch 6/20\n",
            "10/10 [==============================] - 3s 253ms/step - loss: 8.1809 - accuracy: 0.5500\n",
            "Epoch 7/20\n",
            "10/10 [==============================] - 3s 253ms/step - loss: 43.6080 - accuracy: 0.5000\n",
            "Epoch 8/20\n",
            "10/10 [==============================] - 3s 252ms/step - loss: 27.5199 - accuracy: 0.6250\n",
            "Epoch 9/20\n",
            "10/10 [==============================] - 3s 253ms/step - loss: 14.5107 - accuracy: 0.5250\n",
            "Epoch 10/20\n",
            "10/10 [==============================] - 3s 255ms/step - loss: 3.7306 - accuracy: 0.7250\n",
            "Epoch 11/20\n",
            "10/10 [==============================] - 3s 252ms/step - loss: 1.2879 - accuracy: 0.7250\n",
            "Epoch 12/20\n",
            "10/10 [==============================] - 3s 255ms/step - loss: 4.5860 - accuracy: 0.6750\n",
            "Epoch 13/20\n",
            "10/10 [==============================] - 3s 253ms/step - loss: 1.6033 - accuracy: 0.7500\n",
            "Epoch 14/20\n",
            "10/10 [==============================] - 3s 254ms/step - loss: 0.8794 - accuracy: 0.8000\n",
            "Epoch 15/20\n",
            "10/10 [==============================] - 3s 252ms/step - loss: 5.9180 - accuracy: 0.5250\n",
            "Epoch 16/20\n",
            "10/10 [==============================] - 3s 252ms/step - loss: 1.9192 - accuracy: 0.8000\n",
            "Epoch 17/20\n",
            "10/10 [==============================] - 3s 252ms/step - loss: 0.9373 - accuracy: 0.7000\n",
            "Epoch 18/20\n",
            "10/10 [==============================] - 3s 253ms/step - loss: 0.1392 - accuracy: 0.9500\n",
            "Epoch 19/20\n",
            "10/10 [==============================] - 3s 252ms/step - loss: 0.0628 - accuracy: 0.9750\n",
            "Epoch 20/20\n",
            "10/10 [==============================] - 3s 253ms/step - loss: 0.0650 - accuracy: 0.9750\n",
            "1/1 [==============================] - 0s 62ms/step\n"
          ]
        }
      ],
      "source": [
        "import numpy as np\n",
        "import tensorflow as tf\n",
        "from tensorflow.keras import layers, models\n",
        "\n",
        "# Set up the data\n",
        "train_data = X_train\n",
        "train_labels = y_train\n",
        "\n",
        "# Define the model\n",
        "model = models.Sequential()\n",
        "model.add(layers.Conv1D(256, 3, activation='relu', input_shape=(5, 110000)))\n",
        "model.add(layers.MaxPooling1D(2))\n",
        "model.add(layers.Flatten())\n",
        "model.add(layers.Dense(1, activation='sigmoid'))\n",
        "\n",
        "# Compile the model\n",
        "model.compile(optimizer='adam',\n",
        "              loss='binary_crossentropy',\n",
        "              metrics=['accuracy'])\n",
        "\n",
        "# Train the model\n",
        "model.fit(train_data, train_labels, epochs=20, batch_size=4)\n",
        "\n",
        "# Test the model on some new data\n",
        "test_data = X_test\n",
        "predictions2 = model.predict(test_data)\n"
      ]
    },
    {
      "cell_type": "code",
      "execution_count": null,
      "metadata": {
        "id": "771fd580",
        "outputId": "24be068f-de5e-4908-9b66-7ed5a0ad7001"
      },
      "outputs": [
        {
          "data": {
            "text/plain": [
              "array([[0],\n",
              "       [0],\n",
              "       [0],\n",
              "       [0],\n",
              "       [1],\n",
              "       [0],\n",
              "       [1],\n",
              "       [0],\n",
              "       [1],\n",
              "       [1],\n",
              "       [1],\n",
              "       [1],\n",
              "       [1],\n",
              "       [1],\n",
              "       [1]])"
            ]
          },
          "execution_count": 67,
          "metadata": {},
          "output_type": "execute_result"
        }
      ],
      "source": [
        "binary_predictions = (predictions2 > 0.5).astype(int)\n",
        "binary_predictions"
      ]
    },
    {
      "cell_type": "code",
      "execution_count": null,
      "metadata": {
        "id": "17d36e52",
        "outputId": "480af4fc-d4fa-4f43-87df-5e638832c47a"
      },
      "outputs": [
        {
          "name": "stdout",
          "output_type": "stream",
          "text": [
            "Accuracy: 0.8\n"
          ]
        }
      ],
      "source": [
        "acc = accuracy_score(y_test, binary_predictions)\n",
        "print(f\"Accuracy: {acc}\")"
      ]
    },
    {
      "cell_type": "code",
      "execution_count": null,
      "metadata": {
        "id": "20e91f8e"
      },
      "outputs": [],
      "source": [
        "#Reading another data set of testing and training data\n",
        "test_list3 = os.listdir('/home/shreya/FermiData/test_new/grbs/trigdat')\n",
        "test_list4 = os.listdir('/home/shreya/FermiData/test_new/tgfs/trigdat')\n",
        "test_listII = test_list3 + test_list4\n",
        "test_det3 =  find_brightest_det(test_list3, \"grbs\", \"test_new\")\n",
        "test_det4 = find_brightest_det(test_list4, \"tgfs\", \"test_new\")\n",
        "test_detII = test_det4 +test_det3\n",
        "test_data3 = read_data(test_det3, \"grbs\", test_list3, \"test_new\")\n",
        "test_data4 = read_data(test_det4, \"tgfs\", test_list4, \"test_new\")\n",
        "test_dataII = test_data4 + test_data4"
      ]
    },
    {
      "cell_type": "code",
      "execution_count": null,
      "metadata": {
        "id": "9e8c642b"
      },
      "outputs": [],
      "source": [
        "bins = [1, 0.1, 0.05, 0.01, 0.001]\n",
        "histograms = []\n",
        "hist_temp2II = bin_hist(test_dataII, bins)"
      ]
    },
    {
      "cell_type": "code",
      "execution_count": null,
      "metadata": {
        "id": "e8d264ca"
      },
      "outputs": [],
      "source": [
        "hist_2d_testII = []\n",
        "for j in range(len(test_dataII)):\n",
        "    final = np.zeros((5, 110000))\n",
        "    for i in range(len(bins)):\n",
        "        for k in range(len(hist_temp2II[i][j])):\n",
        "            final[i][k] = hist_temp2II[i][j][k]\n",
        "    hist_2d_testII.append(final)"
      ]
    },
    {
      "cell_type": "markdown",
      "source": [
        "The classification algorithm using a single layered convolutional neural network is run for various values of parameters using the early stopping technique, few of the outputs can be seen below."
      ],
      "metadata": {
        "id": "qm5NjsSI7UCz"
      }
    },
    {
      "cell_type": "code",
      "execution_count": null,
      "metadata": {
        "id": "accf7853",
        "outputId": "c7df7bcc-f7a5-4069-cd64-8ae3d129e886"
      },
      "outputs": [
        {
          "name": "stdout",
          "output_type": "stream",
          "text": [
            "Epoch 1/35\n",
            "16/16 [==============================] - 5s 264ms/step - loss: 317.6365 - accuracy: 0.4444 - val_loss: 9.3449 - val_accuracy: 0.4800\n",
            "Epoch 2/35\n",
            "16/16 [==============================] - 4s 256ms/step - loss: 30.7420 - accuracy: 0.4762 - val_loss: 46.6217 - val_accuracy: 0.5200\n",
            "Epoch 3/35\n",
            "16/16 [==============================] - 4s 256ms/step - loss: 39.0533 - accuracy: 0.4444 - val_loss: 19.7238 - val_accuracy: 0.4800\n",
            "Epoch 4/35\n",
            "16/16 [==============================] - 4s 257ms/step - loss: 32.1314 - accuracy: 0.5079 - val_loss: 31.4195 - val_accuracy: 0.5200\n",
            "Epoch 5/35\n",
            "16/16 [==============================] - 4s 256ms/step - loss: 20.2229 - accuracy: 0.5397 - val_loss: 23.6634 - val_accuracy: 0.5200\n",
            "Epoch 6/35\n",
            "16/16 [==============================] - 4s 256ms/step - loss: 20.0273 - accuracy: 0.4127 - val_loss: 24.1147 - val_accuracy: 0.5200\n",
            "Epoch 7/35\n",
            "16/16 [==============================] - 4s 256ms/step - loss: 18.7546 - accuracy: 0.4762 - val_loss: 15.7737 - val_accuracy: 0.4800\n",
            "Epoch 8/35\n",
            "16/16 [==============================] - 4s 256ms/step - loss: 24.9943 - accuracy: 0.5238 - val_loss: 13.1319 - val_accuracy: 0.5200\n",
            "Epoch 9/35\n",
            "16/16 [==============================] - 4s 257ms/step - loss: 21.5909 - accuracy: 0.5556 - val_loss: 8.4813 - val_accuracy: 0.4800\n",
            "Epoch 10/35\n",
            "16/16 [==============================] - 4s 257ms/step - loss: 3.9805 - accuracy: 0.6349 - val_loss: 3.8123 - val_accuracy: 0.4800\n",
            "Epoch 11/35\n",
            "16/16 [==============================] - 4s 259ms/step - loss: 11.1926 - accuracy: 0.5714 - val_loss: 10.9840 - val_accuracy: 0.5200\n",
            "Epoch 12/35\n",
            "16/16 [==============================] - 4s 256ms/step - loss: 7.9138 - accuracy: 0.5079 - val_loss: 12.7495 - val_accuracy: 0.4800\n",
            "Epoch 13/35\n",
            "16/16 [==============================] - 4s 257ms/step - loss: 8.6480 - accuracy: 0.5556 - val_loss: 6.1013 - val_accuracy: 0.5200\n",
            "Epoch 14/35\n",
            "16/16 [==============================] - 4s 260ms/step - loss: 2.5179 - accuracy: 0.7143 - val_loss: 1.2962 - val_accuracy: 0.2400\n",
            "Epoch 15/35\n",
            "16/16 [==============================] - 4s 257ms/step - loss: 1.0755 - accuracy: 0.7937 - val_loss: 1.1795 - val_accuracy: 0.4000\n",
            "Epoch 16/35\n",
            "16/16 [==============================] - 4s 258ms/step - loss: 0.0179 - accuracy: 1.0000 - val_loss: 1.3420 - val_accuracy: 0.5200\n",
            "Epoch 17/35\n",
            "16/16 [==============================] - 4s 257ms/step - loss: 0.2757 - accuracy: 0.9524 - val_loss: 8.7530 - val_accuracy: 0.5200\n",
            "Epoch 18/35\n",
            "16/16 [==============================] - 4s 257ms/step - loss: 3.3345 - accuracy: 0.6508 - val_loss: 0.8347 - val_accuracy: 0.4800\n",
            "Epoch 19/35\n",
            "16/16 [==============================] - 4s 258ms/step - loss: 1.2140 - accuracy: 0.8254 - val_loss: 3.0473 - val_accuracy: 0.5200\n",
            "Epoch 20/35\n",
            "16/16 [==============================] - 4s 257ms/step - loss: 1.6601 - accuracy: 0.7619 - val_loss: 6.4423 - val_accuracy: 0.5200\n",
            "Epoch 21/35\n",
            "16/16 [==============================] - 4s 257ms/step - loss: 6.6476 - accuracy: 0.6190 - val_loss: 15.3839 - val_accuracy: 0.5200\n",
            "Epoch 22/35\n",
            "16/16 [==============================] - 4s 258ms/step - loss: 4.0746 - accuracy: 0.7143 - val_loss: 6.7151 - val_accuracy: 0.5200\n",
            "Epoch 23/35\n",
            "16/16 [==============================] - 4s 258ms/step - loss: 3.0305 - accuracy: 0.5873 - val_loss: 9.3029 - val_accuracy: 0.4800\n",
            "Epoch 24/35\n",
            "16/16 [==============================] - 4s 258ms/step - loss: 0.7795 - accuracy: 0.8889 - val_loss: 1.5001 - val_accuracy: 0.5200\n",
            "Epoch 25/35\n",
            "16/16 [==============================] - 4s 257ms/step - loss: 0.0069 - accuracy: 1.0000 - val_loss: 2.0331 - val_accuracy: 0.5200\n",
            "Epoch 26/35\n",
            "16/16 [==============================] - 4s 258ms/step - loss: 0.0125 - accuracy: 1.0000 - val_loss: 1.5191 - val_accuracy: 0.5200\n",
            "Epoch 27/35\n",
            "16/16 [==============================] - 4s 257ms/step - loss: 0.0036 - accuracy: 1.0000 - val_loss: 0.8745 - val_accuracy: 0.5600\n",
            "Epoch 28/35\n",
            "16/16 [==============================] - 4s 257ms/step - loss: 0.0012 - accuracy: 1.0000 - val_loss: 0.7610 - val_accuracy: 0.6400\n",
            "Epoch 29/35\n",
            "16/16 [==============================] - 4s 258ms/step - loss: 0.0010 - accuracy: 1.0000 - val_loss: 0.5790 - val_accuracy: 0.7600\n",
            "Epoch 30/35\n",
            "16/16 [==============================] - 4s 257ms/step - loss: 6.4128e-04 - accuracy: 1.0000 - val_loss: 0.5821 - val_accuracy: 0.7600\n",
            "Epoch 31/35\n",
            "16/16 [==============================] - 4s 257ms/step - loss: 7.2299e-04 - accuracy: 1.0000 - val_loss: 0.5802 - val_accuracy: 0.7600\n",
            "Epoch 32/35\n",
            "16/16 [==============================] - 4s 257ms/step - loss: 6.6811e-04 - accuracy: 1.0000 - val_loss: 0.5913 - val_accuracy: 0.7200\n",
            "Epoch 33/35\n",
            "16/16 [==============================] - 4s 255ms/step - loss: 6.7334e-04 - accuracy: 1.0000 - val_loss: 0.5803 - val_accuracy: 0.8000\n",
            "Epoch 34/35\n",
            "16/16 [==============================] - 4s 256ms/step - loss: 5.9808e-04 - accuracy: 1.0000 - val_loss: 0.5924 - val_accuracy: 0.7200\n",
            "Epoch 35/35\n",
            "16/16 [==============================] - 4s 257ms/step - loss: 7.1386e-04 - accuracy: 1.0000 - val_loss: 0.5822 - val_accuracy: 0.7600\n",
            "1/1 [==============================] - 0s 74ms/step\n"
          ]
        },
        {
          "data": {
            "text/plain": [
              "array([[0],\n",
              "       [1],\n",
              "       [0],\n",
              "       [0],\n",
              "       [0],\n",
              "       [0],\n",
              "       [0],\n",
              "       [0],\n",
              "       [0],\n",
              "       [0],\n",
              "       [1],\n",
              "       [0],\n",
              "       [0],\n",
              "       [1],\n",
              "       [1],\n",
              "       [0],\n",
              "       [0],\n",
              "       [0],\n",
              "       [1],\n",
              "       [1],\n",
              "       [1],\n",
              "       [1],\n",
              "       [1],\n",
              "       [0],\n",
              "       [1]])"
            ]
          },
          "execution_count": 92,
          "metadata": {},
          "output_type": "execute_result"
        }
      ],
      "source": [
        "import numpy as np\n",
        "import tensorflow as tf\n",
        "from tensorflow.keras import layers, models\n",
        "\n",
        "# Set up the data\n",
        "train_data = X_train\n",
        "train_labels = y_train\n",
        "\n",
        "# Define the model\n",
        "model = models.Sequential()\n",
        "model.add(layers.Conv1D(256, 3, activation='relu', input_shape=(5, 110000)))\n",
        "model.add(layers.MaxPooling1D(2))\n",
        "model.add(layers.Flatten())\n",
        "model.add(layers.Dense(1, activation='sigmoid'))\n",
        "\n",
        "# Compile the model\n",
        "model.compile(optimizer='adam',\n",
        "              loss='binary_crossentropy',\n",
        "              metrics=['accuracy'])\n",
        "\n",
        "# Train the model\n",
        "x_val = X_test\n",
        "y_val = y_test\n",
        "early_stop = tf.keras.callbacks.EarlyStopping(monitor='val_loss', patience=10, mode='min')\n",
        "\n",
        "# train the model with early stopping\n",
        "history = model.fit(X_train, y_train, epochs=35, batch_size=4, validation_data=(x_val, y_val), callbacks=[early_stop])\n",
        "# model.fit(train_data, train_labels, epochs=18, batch_size=4)\n",
        "\n",
        "# Test the model on some new data\n",
        "test_data = X_test\n",
        "predictions4 = model.predict(test_data)\n",
        "\n",
        "binary_predictions4 = (predictions4 > 0.5).astype(int)\n",
        "binary_predictions4"
      ]
    },
    {
      "cell_type": "code",
      "execution_count": null,
      "metadata": {
        "id": "d7796050",
        "outputId": "9824cd4c-4036-4e81-dd1e-7981fdd58bc9"
      },
      "outputs": [
        {
          "name": "stdout",
          "output_type": "stream",
          "text": [
            "Accuracy: 0.76\n"
          ]
        }
      ],
      "source": [
        "acc = accuracy_score(y_test, binary_predictions4)\n",
        "print(f\"Accuracy: {acc}\")"
      ]
    },
    {
      "cell_type": "code",
      "execution_count": null,
      "metadata": {
        "id": "78567842",
        "outputId": "532c1519-6a33-4718-8028-9491f24ae5ed"
      },
      "outputs": [
        {
          "name": "stdout",
          "output_type": "stream",
          "text": [
            "Epoch 1/35\n",
            "16/16 [==============================] - 5s 261ms/step - loss: 198.0213 - accuracy: 0.4762 - val_loss: 31.1639 - val_accuracy: 0.5625\n",
            "Epoch 2/35\n",
            "16/16 [==============================] - 4s 254ms/step - loss: 27.7698 - accuracy: 0.4286 - val_loss: 5.4507 - val_accuracy: 0.5625\n",
            "Epoch 3/35\n",
            "16/16 [==============================] - 4s 253ms/step - loss: 48.6603 - accuracy: 0.5079 - val_loss: 33.6812 - val_accuracy: 0.5000\n",
            "Epoch 4/35\n",
            "16/16 [==============================] - 4s 253ms/step - loss: 40.9856 - accuracy: 0.4444 - val_loss: 37.3411 - val_accuracy: 0.5000\n",
            "Epoch 5/35\n",
            "16/16 [==============================] - 4s 254ms/step - loss: 14.4252 - accuracy: 0.4921 - val_loss: 1.1163 - val_accuracy: 0.6250\n",
            "Epoch 6/35\n",
            "16/16 [==============================] - 4s 253ms/step - loss: 7.7231 - accuracy: 0.6032 - val_loss: 6.0750 - val_accuracy: 0.5000\n",
            "Epoch 7/35\n",
            "16/16 [==============================] - 4s 254ms/step - loss: 14.6343 - accuracy: 0.5873 - val_loss: 10.9024 - val_accuracy: 0.5000\n",
            "Epoch 8/35\n",
            "16/16 [==============================] - 4s 253ms/step - loss: 6.0987 - accuracy: 0.4603 - val_loss: 1.6587 - val_accuracy: 0.5625\n",
            "Epoch 9/35\n",
            "16/16 [==============================] - 4s 254ms/step - loss: 1.7347 - accuracy: 0.7778 - val_loss: 2.0201 - val_accuracy: 0.5625\n",
            "Epoch 10/35\n",
            "16/16 [==============================] - 4s 254ms/step - loss: 17.2176 - accuracy: 0.5556 - val_loss: 28.4349 - val_accuracy: 0.5625\n",
            "Epoch 11/35\n",
            "16/16 [==============================] - 4s 254ms/step - loss: 38.8073 - accuracy: 0.5079 - val_loss: 0.0492 - val_accuracy: 1.0000\n",
            "Epoch 12/35\n",
            "16/16 [==============================] - 4s 254ms/step - loss: 26.2673 - accuracy: 0.5714 - val_loss: 27.8052 - val_accuracy: 0.5000\n",
            "Epoch 13/35\n",
            "16/16 [==============================] - 4s 255ms/step - loss: 32.7349 - accuracy: 0.5079 - val_loss: 39.9016 - val_accuracy: 0.5000\n",
            "Epoch 14/35\n",
            "16/16 [==============================] - 4s 254ms/step - loss: 16.7185 - accuracy: 0.6032 - val_loss: 12.7969 - val_accuracy: 0.5625\n",
            "Epoch 15/35\n",
            "16/16 [==============================] - 4s 255ms/step - loss: 3.2193 - accuracy: 0.6984 - val_loss: 0.0090 - val_accuracy: 1.0000\n",
            "Epoch 16/35\n",
            "16/16 [==============================] - 4s 254ms/step - loss: 0.3141 - accuracy: 0.8730 - val_loss: 0.5902 - val_accuracy: 0.6875\n",
            "Epoch 17/35\n",
            "16/16 [==============================] - 4s 255ms/step - loss: 0.1115 - accuracy: 0.9365 - val_loss: 0.0010 - val_accuracy: 1.0000\n",
            "Epoch 18/35\n",
            "16/16 [==============================] - 4s 255ms/step - loss: 0.0020 - accuracy: 1.0000 - val_loss: 0.0014 - val_accuracy: 1.0000\n",
            "Epoch 19/35\n",
            "16/16 [==============================] - 4s 254ms/step - loss: 9.8925e-04 - accuracy: 1.0000 - val_loss: 4.3789e-04 - val_accuracy: 1.0000\n",
            "Epoch 20/35\n",
            "16/16 [==============================] - 4s 255ms/step - loss: 6.2847e-04 - accuracy: 1.0000 - val_loss: 2.9184e-04 - val_accuracy: 1.0000\n",
            "Epoch 21/35\n",
            "16/16 [==============================] - 4s 255ms/step - loss: 5.2668e-04 - accuracy: 1.0000 - val_loss: 3.5008e-04 - val_accuracy: 1.0000\n",
            "Epoch 22/35\n",
            "16/16 [==============================] - 4s 255ms/step - loss: 4.5203e-04 - accuracy: 1.0000 - val_loss: 2.7024e-04 - val_accuracy: 1.0000\n",
            "Epoch 23/35\n",
            "16/16 [==============================] - 4s 254ms/step - loss: 4.8413e-04 - accuracy: 1.0000 - val_loss: 2.6471e-04 - val_accuracy: 1.0000\n",
            "Epoch 24/35\n",
            "16/16 [==============================] - 4s 255ms/step - loss: 4.6653e-04 - accuracy: 1.0000 - val_loss: 2.9182e-04 - val_accuracy: 1.0000\n",
            "Epoch 25/35\n",
            "16/16 [==============================] - 4s 253ms/step - loss: 4.6326e-04 - accuracy: 1.0000 - val_loss: 2.8878e-04 - val_accuracy: 1.0000\n",
            "Epoch 26/35\n",
            "16/16 [==============================] - 4s 255ms/step - loss: 4.6844e-04 - accuracy: 1.0000 - val_loss: 2.7477e-04 - val_accuracy: 1.0000\n",
            "Epoch 27/35\n",
            "16/16 [==============================] - 4s 253ms/step - loss: 4.7320e-04 - accuracy: 1.0000 - val_loss: 2.6919e-04 - val_accuracy: 1.0000\n",
            "Epoch 28/35\n",
            "16/16 [==============================] - 4s 255ms/step - loss: 4.6485e-04 - accuracy: 1.0000 - val_loss: 2.8883e-04 - val_accuracy: 1.0000\n",
            "Epoch 29/35\n",
            "16/16 [==============================] - 4s 254ms/step - loss: 4.5638e-04 - accuracy: 1.0000 - val_loss: 2.8216e-04 - val_accuracy: 1.0000\n",
            "Epoch 30/35\n",
            "16/16 [==============================] - 4s 254ms/step - loss: 4.6137e-04 - accuracy: 1.0000 - val_loss: 2.8913e-04 - val_accuracy: 1.0000\n",
            "Epoch 31/35\n",
            "16/16 [==============================] - 4s 253ms/step - loss: 4.5944e-04 - accuracy: 1.0000 - val_loss: 2.7887e-04 - val_accuracy: 1.0000\n",
            "Epoch 32/35\n",
            "16/16 [==============================] - 4s 254ms/step - loss: 4.6965e-04 - accuracy: 1.0000 - val_loss: 2.7022e-04 - val_accuracy: 1.0000\n",
            "Epoch 33/35\n",
            "16/16 [==============================] - 4s 253ms/step - loss: 4.9005e-04 - accuracy: 1.0000 - val_loss: 2.7032e-04 - val_accuracy: 1.0000\n",
            "1/1 [==============================] - 0s 75ms/step\n"
          ]
        },
        {
          "data": {
            "text/plain": [
              "array([[0],\n",
              "       [0],\n",
              "       [0],\n",
              "       [0],\n",
              "       [0],\n",
              "       [0],\n",
              "       [0],\n",
              "       [0],\n",
              "       [0],\n",
              "       [0],\n",
              "       [0],\n",
              "       [0],\n",
              "       [0],\n",
              "       [0],\n",
              "       [1],\n",
              "       [0],\n",
              "       [0],\n",
              "       [0],\n",
              "       [0],\n",
              "       [0],\n",
              "       [1],\n",
              "       [1],\n",
              "       [1],\n",
              "       [0],\n",
              "       [0]])"
            ]
          },
          "execution_count": 100,
          "metadata": {},
          "output_type": "execute_result"
        }
      ],
      "source": [
        "import numpy as np\n",
        "import tensorflow as tf\n",
        "from tensorflow.keras import layers, models\n",
        "\n",
        "\n",
        "# Set up the data\n",
        "# train_data = X_train\n",
        "# train_labels = y_train\n",
        "train_data, x_val, train_labels, y_val = train_test_split(X_train, y_train)\n",
        "\n",
        "# Define the model\n",
        "model = models.Sequential()\n",
        "model.add(layers.Conv1D(256, 3, activation='relu', input_shape=(5, 110000)))\n",
        "model.add(layers.MaxPooling1D(2))\n",
        "model.add(layers.Flatten())\n",
        "model.add(layers.Dense(1, activation='sigmoid'))\n",
        "\n",
        "# Compile the model\n",
        "model.compile(optimizer='adam',\n",
        "              loss='binary_crossentropy',\n",
        "              metrics=['accuracy'])\n",
        "\n",
        "# Train the model\n",
        "# x_val = X_test\n",
        "# y_val = y_test\n",
        "early_stop = tf.keras.callbacks.EarlyStopping(monitor='val_loss', patience=10, mode='min')\n",
        "\n",
        "# train the model with early stopping\n",
        "history = model.fit(X_train, y_train, epochs=35, batch_size=4, validation_data=(x_val, y_val), callbacks=[early_stop])\n",
        "# model.fit(train_data, train_labels, epochs=18, batch_size=4)\n",
        "\n",
        "# Test the model on some new data\n",
        "test_data = X_test\n",
        "predictions4 = model.predict(test_data)\n",
        "\n",
        "binary_predictions4 = (predictions4 > 0.5).astype(int)\n",
        "binary_predictions4"
      ]
    },
    {
      "cell_type": "code",
      "execution_count": null,
      "metadata": {
        "id": "0f174ee2",
        "outputId": "b637302c-0ae1-4a65-fd68-c31d77e89ae5"
      },
      "outputs": [
        {
          "name": "stdout",
          "output_type": "stream",
          "text": [
            "Accuracy: 0.68\n"
          ]
        }
      ],
      "source": [
        "acc = accuracy_score(y_test, binary_predictions4)\n",
        "print(f\"Accuracy: {acc}\")"
      ]
    },
    {
      "cell_type": "code",
      "execution_count": null,
      "metadata": {
        "id": "fff42780",
        "outputId": "c136f364-da67-4c2e-91d3-458959fc97d2"
      },
      "outputs": [
        {
          "name": "stdout",
          "output_type": "stream",
          "text": [
            "Epoch 1/35\n",
            "16/16 [==============================] - 5s 263ms/step - loss: 568.3583 - accuracy: 0.4603 - val_loss: 48.1397 - val_accuracy: 0.4375\n",
            "Epoch 2/35\n",
            "16/16 [==============================] - 4s 254ms/step - loss: 19.7663 - accuracy: 0.5079 - val_loss: 26.0867 - val_accuracy: 0.5625\n",
            "Epoch 3/35\n",
            "16/16 [==============================] - 4s 255ms/step - loss: 53.7270 - accuracy: 0.5079 - val_loss: 34.7788 - val_accuracy: 0.5625\n",
            "Epoch 4/35\n",
            "16/16 [==============================] - 4s 255ms/step - loss: 12.8313 - accuracy: 0.4603 - val_loss: 17.2844 - val_accuracy: 0.6250\n",
            "Epoch 5/35\n",
            "16/16 [==============================] - 4s 254ms/step - loss: 24.6864 - accuracy: 0.3968 - val_loss: 13.1949 - val_accuracy: 0.4375\n",
            "Epoch 6/35\n",
            "16/16 [==============================] - 4s 254ms/step - loss: 27.7270 - accuracy: 0.4921 - val_loss: 30.5106 - val_accuracy: 0.4375\n",
            "Epoch 7/35\n",
            "16/16 [==============================] - 4s 255ms/step - loss: 15.3978 - accuracy: 0.4921 - val_loss: 5.4903 - val_accuracy: 0.6250\n",
            "Epoch 8/35\n",
            "16/16 [==============================] - 4s 255ms/step - loss: 8.8205 - accuracy: 0.5397 - val_loss: 34.1936 - val_accuracy: 0.4375\n",
            "Epoch 9/35\n",
            "16/16 [==============================] - 4s 255ms/step - loss: 10.8394 - accuracy: 0.5397 - val_loss: 3.9564 - val_accuracy: 0.6250\n",
            "Epoch 10/35\n",
            "16/16 [==============================] - 4s 255ms/step - loss: 3.5914 - accuracy: 0.5556 - val_loss: 0.2427 - val_accuracy: 0.9375\n",
            "Epoch 11/35\n",
            "16/16 [==============================] - 4s 254ms/step - loss: 4.1981 - accuracy: 0.6667 - val_loss: 6.6152 - val_accuracy: 0.4375\n",
            "Epoch 12/35\n",
            "16/16 [==============================] - 4s 255ms/step - loss: 6.4774 - accuracy: 0.5079 - val_loss: 0.1179 - val_accuracy: 0.9375\n",
            "Epoch 13/35\n",
            "16/16 [==============================] - 4s 255ms/step - loss: 1.0836 - accuracy: 0.6667 - val_loss: 0.0698 - val_accuracy: 1.0000\n",
            "Epoch 14/35\n",
            "16/16 [==============================] - 4s 255ms/step - loss: 3.1961 - accuracy: 0.6349 - val_loss: 17.6730 - val_accuracy: 0.4375\n",
            "Epoch 15/35\n",
            "16/16 [==============================] - 4s 255ms/step - loss: 6.2686 - accuracy: 0.6508 - val_loss: 8.6158 - val_accuracy: 0.6250\n",
            "Epoch 16/35\n",
            "16/16 [==============================] - 4s 255ms/step - loss: 11.2547 - accuracy: 0.5714 - val_loss: 21.9334 - val_accuracy: 0.4375\n",
            "Epoch 17/35\n",
            "16/16 [==============================] - 4s 254ms/step - loss: 10.0446 - accuracy: 0.5873 - val_loss: 11.2403 - val_accuracy: 0.6250\n",
            "Epoch 18/35\n",
            "16/16 [==============================] - 4s 257ms/step - loss: 3.6324 - accuracy: 0.6667 - val_loss: 0.0368 - val_accuracy: 1.0000\n",
            "Epoch 19/35\n",
            "16/16 [==============================] - 4s 255ms/step - loss: 0.2011 - accuracy: 0.9206 - val_loss: 0.0177 - val_accuracy: 1.0000\n",
            "Epoch 20/35\n",
            "16/16 [==============================] - 4s 256ms/step - loss: 0.3715 - accuracy: 0.8730 - val_loss: 1.5927 - val_accuracy: 0.6875\n",
            "Epoch 21/35\n",
            "16/16 [==============================] - 4s 254ms/step - loss: 1.3233 - accuracy: 0.7302 - val_loss: 1.8582 - val_accuracy: 0.5000\n",
            "Epoch 22/35\n",
            "16/16 [==============================] - 4s 254ms/step - loss: 3.3176 - accuracy: 0.5873 - val_loss: 0.0051 - val_accuracy: 1.0000\n",
            "Epoch 23/35\n",
            "16/16 [==============================] - 4s 256ms/step - loss: 0.7618 - accuracy: 0.7778 - val_loss: 0.0029 - val_accuracy: 1.0000\n",
            "Epoch 24/35\n",
            "16/16 [==============================] - 4s 257ms/step - loss: 3.0122 - accuracy: 0.6825 - val_loss: 12.9798 - val_accuracy: 0.5625\n",
            "Epoch 25/35\n",
            "16/16 [==============================] - 4s 254ms/step - loss: 11.7805 - accuracy: 0.5714 - val_loss: 11.9353 - val_accuracy: 0.4375\n",
            "Epoch 26/35\n",
            "16/16 [==============================] - 4s 254ms/step - loss: 9.4707 - accuracy: 0.6349 - val_loss: 3.4853 - val_accuracy: 0.4375\n",
            "Epoch 27/35\n",
            "16/16 [==============================] - 4s 254ms/step - loss: 1.2419 - accuracy: 0.7143 - val_loss: 0.1350 - val_accuracy: 0.9375\n",
            "Epoch 28/35\n",
            "16/16 [==============================] - 4s 254ms/step - loss: 0.0401 - accuracy: 0.9841 - val_loss: 0.0024 - val_accuracy: 1.0000\n",
            "Epoch 29/35\n",
            "16/16 [==============================] - 4s 256ms/step - loss: 0.0595 - accuracy: 0.9524 - val_loss: 0.0529 - val_accuracy: 1.0000\n",
            "Epoch 30/35\n",
            "16/16 [==============================] - 4s 255ms/step - loss: 0.0310 - accuracy: 0.9841 - val_loss: 0.7999 - val_accuracy: 0.6875\n",
            "Epoch 31/35\n",
            "16/16 [==============================] - 4s 255ms/step - loss: 0.3850 - accuracy: 0.8571 - val_loss: 3.7544 - val_accuracy: 0.6250\n",
            "Epoch 32/35\n",
            "16/16 [==============================] - 4s 254ms/step - loss: 1.6342 - accuracy: 0.7302 - val_loss: 9.0743e-04 - val_accuracy: 1.0000\n",
            "Epoch 33/35\n",
            "16/16 [==============================] - 4s 255ms/step - loss: 0.2632 - accuracy: 0.9206 - val_loss: 0.0017 - val_accuracy: 1.0000\n",
            "Epoch 34/35\n",
            "16/16 [==============================] - 4s 252ms/step - loss: 0.0166 - accuracy: 1.0000 - val_loss: 0.0055 - val_accuracy: 1.0000\n",
            "Epoch 35/35\n",
            "16/16 [==============================] - 4s 255ms/step - loss: 0.0022 - accuracy: 1.0000 - val_loss: 7.6611e-04 - val_accuracy: 1.0000\n",
            "1/1 [==============================] - 0s 71ms/step\n"
          ]
        }
      ],
      "source": [
        "import numpy as np\n",
        "import tensorflow as tf\n",
        "from tensorflow.keras import layers, models\n",
        "\n",
        "\n",
        "# Set up the data\n",
        "# train_data = X_train\n",
        "# train_labels = y_train\n",
        "train_data, x_val, train_labels, y_val = train_test_split(X_train, y_train)\n",
        "\n",
        "# Define the model\n",
        "model = models.Sequential()\n",
        "model.add(layers.Conv1D(256, 3, activation='relu', input_shape=(5, 110000)))\n",
        "model.add(layers.MaxPooling1D(2))\n",
        "model.add(layers.Flatten())\n",
        "model.add(layers.Dense(1, activation='sigmoid'))\n",
        "\n",
        "# Compile the model\n",
        "model.compile(optimizer='adam',\n",
        "              loss='binary_crossentropy',\n",
        "              metrics=['accuracy'])\n",
        "\n",
        "# Train the model\n",
        "# x_val = X_test\n",
        "# y_val = y_test\n",
        "early_stop = tf.keras.callbacks.EarlyStopping(monitor='val_loss', patience=10, mode='min')\n",
        "\n",
        "# train the model with early stopping\n",
        "history = model.fit(X_train, y_train, epochs=35, batch_size=4, validation_data=(x_val, y_val), callbacks=[early_stop])\n",
        "# model.fit(train_data, train_labels, epochs=18, batch_size=4)\n",
        "\n",
        "# Test the model on some new data\n",
        "test_data = X_test\n",
        "predictions4 = model.predict(test_data)\n",
        "\n",
        "# acc = accuracy_score(y_test, binary_predictions4)\n",
        "# print(f\"Accuracy: {acc}\")"
      ]
    },
    {
      "cell_type": "code",
      "execution_count": null,
      "metadata": {
        "id": "15985182",
        "outputId": "ed2c034a-69c2-4408-edf6-7a9042fd191d"
      },
      "outputs": [
        {
          "name": "stdout",
          "output_type": "stream",
          "text": [
            "Accuracy: 0.36\n"
          ]
        }
      ],
      "source": [
        "binary_predictions4 = (predictions4 > 0.5).astype(int)\n",
        "\n",
        "acc = accuracy_score(y_test, binary_predictions4)\n",
        "print(f\"Accuracy: {acc}\")"
      ]
    },
    {
      "cell_type": "code",
      "execution_count": null,
      "metadata": {
        "id": "8ca6ada9",
        "outputId": "40be57b1-f8c5-4b2c-f715-aaedc81246c0"
      },
      "outputs": [
        {
          "name": "stdout",
          "output_type": "stream",
          "text": [
            "Epoch 1/35\n",
            "16/16 [==============================] - 4s 251ms/step - loss: 541.5580 - accuracy: 0.5079\n",
            "Epoch 2/35\n",
            "16/16 [==============================] - 4s 251ms/step - loss: 23.5358 - accuracy: 0.5079\n",
            "Epoch 3/35\n",
            "16/16 [==============================] - 4s 251ms/step - loss: 23.4731 - accuracy: 0.5079\n",
            "Epoch 4/35\n",
            "16/16 [==============================] - 4s 251ms/step - loss: 62.5990 - accuracy: 0.4762\n",
            "Epoch 5/35\n",
            "16/16 [==============================] - 4s 251ms/step - loss: 27.9082 - accuracy: 0.4762\n",
            "Epoch 6/35\n",
            "16/16 [==============================] - 4s 251ms/step - loss: 16.8127 - accuracy: 0.5238\n",
            "Epoch 7/35\n",
            "16/16 [==============================] - 4s 251ms/step - loss: 31.7418 - accuracy: 0.5238\n",
            "Epoch 8/35\n",
            "16/16 [==============================] - 4s 251ms/step - loss: 11.4106 - accuracy: 0.5397\n",
            "Epoch 9/35\n",
            "16/16 [==============================] - 4s 250ms/step - loss: 3.9499 - accuracy: 0.6825\n",
            "Epoch 10/35\n",
            "16/16 [==============================] - 4s 250ms/step - loss: 5.4069 - accuracy: 0.6508\n",
            "Epoch 11/35\n",
            "16/16 [==============================] - 4s 249ms/step - loss: 7.8154 - accuracy: 0.6984\n",
            "Epoch 12/35\n",
            "16/16 [==============================] - 4s 250ms/step - loss: 2.9405 - accuracy: 0.7302\n",
            "Epoch 13/35\n",
            "16/16 [==============================] - 4s 250ms/step - loss: 11.5828 - accuracy: 0.4127\n",
            "Epoch 14/35\n",
            "16/16 [==============================] - 4s 250ms/step - loss: 24.1603 - accuracy: 0.5079\n",
            "Epoch 15/35\n",
            "16/16 [==============================] - 4s 250ms/step - loss: 2.2585 - accuracy: 0.7778\n",
            "Epoch 16/35\n",
            "16/16 [==============================] - 4s 250ms/step - loss: 0.7299 - accuracy: 0.8254\n",
            "Epoch 17/35\n",
            "16/16 [==============================] - 4s 250ms/step - loss: 6.3061 - accuracy: 0.6349\n",
            "Epoch 18/35\n",
            "16/16 [==============================] - 4s 250ms/step - loss: 4.4830 - accuracy: 0.6508\n",
            "Epoch 19/35\n",
            "16/16 [==============================] - 4s 250ms/step - loss: 2.6584 - accuracy: 0.7619\n",
            "Epoch 20/35\n",
            "16/16 [==============================] - 4s 250ms/step - loss: 4.1163 - accuracy: 0.7302\n",
            "Epoch 21/35\n",
            "16/16 [==============================] - 4s 250ms/step - loss: 2.3326 - accuracy: 0.7619\n",
            "Epoch 22/35\n",
            "16/16 [==============================] - 4s 250ms/step - loss: 3.1722 - accuracy: 0.6667\n",
            "Epoch 23/35\n",
            "16/16 [==============================] - 4s 250ms/step - loss: 0.8957 - accuracy: 0.8889\n",
            "Epoch 24/35\n",
            "16/16 [==============================] - 4s 251ms/step - loss: 0.0954 - accuracy: 0.9841\n",
            "Epoch 25/35\n",
            "16/16 [==============================] - 4s 251ms/step - loss: 2.2843 - accuracy: 0.8095\n",
            "Epoch 26/35\n",
            "16/16 [==============================] - 4s 251ms/step - loss: 9.5775 - accuracy: 0.6032\n",
            "Epoch 27/35\n",
            "16/16 [==============================] - 4s 250ms/step - loss: 1.6642 - accuracy: 0.8889\n",
            "Epoch 28/35\n",
            "16/16 [==============================] - 4s 249ms/step - loss: 0.0107 - accuracy: 1.0000\n",
            "Epoch 29/35\n",
            "16/16 [==============================] - 4s 250ms/step - loss: 0.0035 - accuracy: 1.0000\n",
            "Epoch 30/35\n",
            "16/16 [==============================] - 4s 250ms/step - loss: 0.1820 - accuracy: 0.9206\n",
            "Epoch 31/35\n",
            "16/16 [==============================] - 4s 250ms/step - loss: 4.3128 - accuracy: 0.6984\n",
            "Epoch 32/35\n",
            "16/16 [==============================] - 4s 251ms/step - loss: 0.3831 - accuracy: 0.9206\n",
            "Epoch 33/35\n",
            "16/16 [==============================] - 4s 254ms/step - loss: 1.3667 - accuracy: 0.8571\n",
            "Epoch 34/35\n",
            "16/16 [==============================] - 4s 250ms/step - loss: 10.0320 - accuracy: 0.6508\n",
            "Epoch 35/35\n",
            "16/16 [==============================] - 4s 249ms/step - loss: 25.3640 - accuracy: 0.5556\n",
            "WARNING:tensorflow:5 out of the last 5 calls to <function Model.make_predict_function.<locals>.predict_function at 0x7fd640160940> triggered tf.function retracing. Tracing is expensive and the excessive number of tracings could be due to (1) creating @tf.function repeatedly in a loop, (2) passing tensors with different shapes, (3) passing Python objects instead of tensors. For (1), please define your @tf.function outside of the loop. For (2), @tf.function has reduce_retracing=True option that can avoid unnecessary retracing. For (3), please refer to https://www.tensorflow.org/guide/function#controlling_retracing and https://www.tensorflow.org/api_docs/python/tf/function for  more details.\n",
            "1/1 [==============================] - 0s 73ms/step\n",
            "Accuracy: 0.52\n"
          ]
        }
      ],
      "source": [
        "import numpy as np\n",
        "import tensorflow as tf\n",
        "from tensorflow.keras import layers, models\n",
        "\n",
        "# Set up the data\n",
        "train_data = X_train\n",
        "train_labels = y_train\n",
        "\n",
        "# Define the model\n",
        "model = models.Sequential()\n",
        "model.add(layers.Conv1D(256, 3, activation='relu', input_shape=(5, 110000)))\n",
        "model.add(layers.MaxPooling1D(2))\n",
        "model.add(layers.Flatten())\n",
        "model.add(layers.Dense(1, activation='sigmoid'))\n",
        "\n",
        "# Compile the model\n",
        "model.compile(optimizer='adam',\n",
        "              loss='binary_crossentropy',\n",
        "              metrics=['accuracy'])\n",
        "\n",
        "# Train the model\n",
        "model.fit(train_data, train_labels, epochs=35, batch_size=4)\n",
        "\n",
        "# Test the model on some new data\n",
        "test_data = X_test\n",
        "predictions2 = model.predict(test_data)\n",
        "binary_predictions2 = (predictions2 > 0.5).astype(int)\n",
        "\n",
        "acc = accuracy_score(y_test, binary_predictions2)\n",
        "print(f\"Accuracy: {acc}\")"
      ]
    },
    {
      "cell_type": "code",
      "execution_count": null,
      "metadata": {
        "id": "b547c717"
      },
      "outputs": [],
      "source": []
    },
    {
      "cell_type": "code",
      "execution_count": null,
      "metadata": {
        "id": "09b0e35b"
      },
      "outputs": [],
      "source": []
    }
  ]
}